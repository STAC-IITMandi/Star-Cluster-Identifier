{
 "cells": [
  {
   "cell_type": "markdown",
   "metadata": {},
   "source": [
    "# Star Cluster Identifier Hackathon"
   ]
  },
  {
   "cell_type": "code",
   "execution_count": 106,
   "metadata": {},
   "outputs": [],
   "source": [
    "import os\n",
    "import numpy as np\n",
    "import pandas as pd\n",
    "import matplotlib\n",
    "import matplotlib.pyplot as plt\n",
    "import itertools\n",
    "from astropy import units as u\n",
    "from astropy.coordinates import SkyCoord\n",
    "\n",
    "%matplotlib inline\n",
    "\n",
    "import warnings\n",
    "warnings.filterwarnings('ignore')"
   ]
  },
  {
   "cell_type": "markdown",
   "metadata": {},
   "source": [
    "## Processing Data"
   ]
  },
  {
   "cell_type": "code",
   "execution_count": 47,
   "metadata": {},
   "outputs": [],
   "source": [
    "f = open(\"data/temp.txt\", \"w\")\n",
    "\n",
    "with open(\"data/Dataset.txt\") as file:\n",
    "    for line in file:\n",
    "        if line[0] != '#':\n",
    "            f.write(line)\n",
    "\n",
    "f.close()"
   ]
  },
  {
   "cell_type": "code",
   "execution_count": 49,
   "metadata": {},
   "outputs": [
    {
     "data": {
      "text/html": [
       "<div>\n",
       "<style scoped>\n",
       "    .dataframe tbody tr th:only-of-type {\n",
       "        vertical-align: middle;\n",
       "    }\n",
       "\n",
       "    .dataframe tbody tr th {\n",
       "        vertical-align: top;\n",
       "    }\n",
       "\n",
       "    .dataframe thead th {\n",
       "        text-align: right;\n",
       "    }\n",
       "</style>\n",
       "<table border=\"1\" class=\"dataframe\">\n",
       "  <thead>\n",
       "    <tr style=\"text-align: right;\">\n",
       "      <th></th>\n",
       "      <th>0</th>\n",
       "      <th>1</th>\n",
       "      <th>2</th>\n",
       "      <th>3</th>\n",
       "      <th>4</th>\n",
       "      <th>5</th>\n",
       "      <th>6</th>\n",
       "      <th>7</th>\n",
       "      <th>8</th>\n",
       "      <th>9</th>\n",
       "      <th>...</th>\n",
       "      <th>27</th>\n",
       "      <th>28</th>\n",
       "      <th>29</th>\n",
       "      <th>30</th>\n",
       "      <th>31</th>\n",
       "      <th>32</th>\n",
       "      <th>33</th>\n",
       "      <th>34</th>\n",
       "      <th>35</th>\n",
       "      <th>36</th>\n",
       "    </tr>\n",
       "  </thead>\n",
       "  <tbody>\n",
       "    <tr>\n",
       "      <th>0</th>\n",
       "      <td>6954.4673</td>\n",
       "      <td>1738.9973</td>\n",
       "      <td>-99.9999</td>\n",
       "      <td>99.9999</td>\n",
       "      <td>0.0</td>\n",
       "      <td>9.9999</td>\n",
       "      <td>0</td>\n",
       "      <td>0</td>\n",
       "      <td>-99.9999</td>\n",
       "      <td>99.9999</td>\n",
       "      <td>...</td>\n",
       "      <td>0.0</td>\n",
       "      <td>0.9999</td>\n",
       "      <td>0.0085</td>\n",
       "      <td>1</td>\n",
       "      <td>1</td>\n",
       "      <td>-1.0</td>\n",
       "      <td>205.524050</td>\n",
       "      <td>28.341480</td>\n",
       "      <td>R0000001</td>\n",
       "      <td>1</td>\n",
       "    </tr>\n",
       "    <tr>\n",
       "      <th>1</th>\n",
       "      <td>7111.1323</td>\n",
       "      <td>1756.4988</td>\n",
       "      <td>-99.9999</td>\n",
       "      <td>99.9999</td>\n",
       "      <td>0.0</td>\n",
       "      <td>9.9999</td>\n",
       "      <td>0</td>\n",
       "      <td>0</td>\n",
       "      <td>-99.9999</td>\n",
       "      <td>99.9999</td>\n",
       "      <td>...</td>\n",
       "      <td>0.0</td>\n",
       "      <td>0.9991</td>\n",
       "      <td>-0.0041</td>\n",
       "      <td>1</td>\n",
       "      <td>1</td>\n",
       "      <td>-1.0</td>\n",
       "      <td>205.522096</td>\n",
       "      <td>28.341672</td>\n",
       "      <td>R0000002</td>\n",
       "      <td>1</td>\n",
       "    </tr>\n",
       "    <tr>\n",
       "      <th>2</th>\n",
       "      <td>6884.0669</td>\n",
       "      <td>1784.6356</td>\n",
       "      <td>-99.9999</td>\n",
       "      <td>99.9999</td>\n",
       "      <td>0.0</td>\n",
       "      <td>9.9999</td>\n",
       "      <td>0</td>\n",
       "      <td>0</td>\n",
       "      <td>-99.9999</td>\n",
       "      <td>99.9999</td>\n",
       "      <td>...</td>\n",
       "      <td>0.0</td>\n",
       "      <td>0.9997</td>\n",
       "      <td>-0.0023</td>\n",
       "      <td>1</td>\n",
       "      <td>1</td>\n",
       "      <td>-1.0</td>\n",
       "      <td>205.524928</td>\n",
       "      <td>28.341980</td>\n",
       "      <td>R0000003</td>\n",
       "      <td>1</td>\n",
       "    </tr>\n",
       "    <tr>\n",
       "      <th>3</th>\n",
       "      <td>6604.6484</td>\n",
       "      <td>1786.4238</td>\n",
       "      <td>-99.9999</td>\n",
       "      <td>99.9999</td>\n",
       "      <td>0.0</td>\n",
       "      <td>9.9999</td>\n",
       "      <td>0</td>\n",
       "      <td>0</td>\n",
       "      <td>-99.9999</td>\n",
       "      <td>99.9999</td>\n",
       "      <td>...</td>\n",
       "      <td>0.0</td>\n",
       "      <td>1.0000</td>\n",
       "      <td>0.0086</td>\n",
       "      <td>1</td>\n",
       "      <td>1</td>\n",
       "      <td>-1.0</td>\n",
       "      <td>205.528412</td>\n",
       "      <td>28.342000</td>\n",
       "      <td>R0000004</td>\n",
       "      <td>1</td>\n",
       "    </tr>\n",
       "    <tr>\n",
       "      <th>4</th>\n",
       "      <td>7284.2275</td>\n",
       "      <td>1819.0413</td>\n",
       "      <td>-99.9999</td>\n",
       "      <td>99.9999</td>\n",
       "      <td>0.0</td>\n",
       "      <td>9.9999</td>\n",
       "      <td>0</td>\n",
       "      <td>0</td>\n",
       "      <td>-99.9999</td>\n",
       "      <td>99.9999</td>\n",
       "      <td>...</td>\n",
       "      <td>0.0</td>\n",
       "      <td>1.0000</td>\n",
       "      <td>0.0000</td>\n",
       "      <td>99</td>\n",
       "      <td>99</td>\n",
       "      <td>-1.0</td>\n",
       "      <td>205.519938</td>\n",
       "      <td>28.342358</td>\n",
       "      <td>R0000005</td>\n",
       "      <td>1</td>\n",
       "    </tr>\n",
       "  </tbody>\n",
       "</table>\n",
       "<p>5 rows × 37 columns</p>\n",
       "</div>"
      ],
      "text/plain": [
       "          0          1        2        3    4       5   6   7        8   \\\n",
       "0  6954.4673  1738.9973 -99.9999  99.9999  0.0  9.9999   0   0 -99.9999   \n",
       "1  7111.1323  1756.4988 -99.9999  99.9999  0.0  9.9999   0   0 -99.9999   \n",
       "2  6884.0669  1784.6356 -99.9999  99.9999  0.0  9.9999   0   0 -99.9999   \n",
       "3  6604.6484  1786.4238 -99.9999  99.9999  0.0  9.9999   0   0 -99.9999   \n",
       "4  7284.2275  1819.0413 -99.9999  99.9999  0.0  9.9999   0   0 -99.9999   \n",
       "\n",
       "        9  ...   27      28      29  30  31   32          33         34  \\\n",
       "0  99.9999 ...  0.0  0.9999  0.0085   1   1 -1.0  205.524050  28.341480   \n",
       "1  99.9999 ...  0.0  0.9991 -0.0041   1   1 -1.0  205.522096  28.341672   \n",
       "2  99.9999 ...  0.0  0.9997 -0.0023   1   1 -1.0  205.524928  28.341980   \n",
       "3  99.9999 ...  0.0  1.0000  0.0086   1   1 -1.0  205.528412  28.342000   \n",
       "4  99.9999 ...  0.0  1.0000  0.0000  99  99 -1.0  205.519938  28.342358   \n",
       "\n",
       "         35  36  \n",
       "0  R0000001   1  \n",
       "1  R0000002   1  \n",
       "2  R0000003   1  \n",
       "3  R0000004   1  \n",
       "4  R0000005   1  \n",
       "\n",
       "[5 rows x 37 columns]"
      ]
     },
     "execution_count": 49,
     "metadata": {},
     "output_type": "execute_result"
    }
   ],
   "source": [
    "raw_df = pd.read_csv('data/temp.txt', header=None, delimiter=r\"\\s+\")\n",
    "raw_df.head()"
   ]
  },
  {
   "cell_type": "code",
   "execution_count": 61,
   "metadata": {},
   "outputs": [
    {
     "data": {
      "text/html": [
       "<div>\n",
       "<style scoped>\n",
       "    .dataframe tbody tr th:only-of-type {\n",
       "        vertical-align: middle;\n",
       "    }\n",
       "\n",
       "    .dataframe tbody tr th {\n",
       "        vertical-align: top;\n",
       "    }\n",
       "\n",
       "    .dataframe thead th {\n",
       "        text-align: right;\n",
       "    }\n",
       "</style>\n",
       "<table border=\"1\" class=\"dataframe\">\n",
       "  <thead>\n",
       "    <tr style=\"text-align: right;\">\n",
       "      <th></th>\n",
       "      <th>x</th>\n",
       "      <th>y</th>\n",
       "      <th>f275w</th>\n",
       "      <th>f336w</th>\n",
       "      <th>f438w</th>\n",
       "      <th>f606w</th>\n",
       "      <th>f814w</th>\n",
       "      <th>prob</th>\n",
       "      <th>ra</th>\n",
       "      <th>dec</th>\n",
       "    </tr>\n",
       "  </thead>\n",
       "  <tbody>\n",
       "    <tr>\n",
       "      <th>count</th>\n",
       "      <td>199621.000000</td>\n",
       "      <td>199621.000000</td>\n",
       "      <td>199621.000000</td>\n",
       "      <td>199621.000000</td>\n",
       "      <td>199621.000000</td>\n",
       "      <td>199621.000000</td>\n",
       "      <td>199621.000000</td>\n",
       "      <td>199621.000000</td>\n",
       "      <td>199621.000000</td>\n",
       "      <td>199621.000000</td>\n",
       "    </tr>\n",
       "    <tr>\n",
       "      <th>mean</th>\n",
       "      <td>5062.955907</td>\n",
       "      <td>4916.888151</td>\n",
       "      <td>-20.770262</td>\n",
       "      <td>-8.363505</td>\n",
       "      <td>-8.390557</td>\n",
       "      <td>22.361134</td>\n",
       "      <td>21.434464</td>\n",
       "      <td>35.983431</td>\n",
       "      <td>205.547639</td>\n",
       "      <td>28.376351</td>\n",
       "    </tr>\n",
       "    <tr>\n",
       "      <th>std</th>\n",
       "      <td>1301.778070</td>\n",
       "      <td>1289.670308</td>\n",
       "      <td>59.867925</td>\n",
       "      <td>54.505959</td>\n",
       "      <td>54.276369</td>\n",
       "      <td>8.054891</td>\n",
       "      <td>7.722576</td>\n",
       "      <td>47.294623</td>\n",
       "      <td>0.016237</td>\n",
       "      <td>0.014153</td>\n",
       "    </tr>\n",
       "    <tr>\n",
       "      <th>min</th>\n",
       "      <td>2074.261200</td>\n",
       "      <td>1693.539200</td>\n",
       "      <td>-99.999900</td>\n",
       "      <td>-99.999900</td>\n",
       "      <td>-99.999900</td>\n",
       "      <td>-99.999900</td>\n",
       "      <td>-99.999900</td>\n",
       "      <td>-1.000000</td>\n",
       "      <td>205.509822</td>\n",
       "      <td>28.340981</td>\n",
       "    </tr>\n",
       "    <tr>\n",
       "      <th>25%</th>\n",
       "      <td>4101.594700</td>\n",
       "      <td>3990.908900</td>\n",
       "      <td>-99.999900</td>\n",
       "      <td>-99.999900</td>\n",
       "      <td>-99.999900</td>\n",
       "      <td>21.159400</td>\n",
       "      <td>20.510800</td>\n",
       "      <td>-1.000000</td>\n",
       "      <td>205.535806</td>\n",
       "      <td>28.366189</td>\n",
       "    </tr>\n",
       "    <tr>\n",
       "      <th>50%</th>\n",
       "      <td>5036.086400</td>\n",
       "      <td>4945.694800</td>\n",
       "      <td>21.428100</td>\n",
       "      <td>22.146700</td>\n",
       "      <td>22.281100</td>\n",
       "      <td>23.233600</td>\n",
       "      <td>22.206800</td>\n",
       "      <td>-1.000000</td>\n",
       "      <td>205.547975</td>\n",
       "      <td>28.376667</td>\n",
       "    </tr>\n",
       "    <tr>\n",
       "      <th>75%</th>\n",
       "      <td>6011.716300</td>\n",
       "      <td>5868.073200</td>\n",
       "      <td>26.051500</td>\n",
       "      <td>26.057700</td>\n",
       "      <td>25.366100</td>\n",
       "      <td>24.601000</td>\n",
       "      <td>23.380000</td>\n",
       "      <td>96.800000</td>\n",
       "      <td>205.559631</td>\n",
       "      <td>28.386789</td>\n",
       "    </tr>\n",
       "    <tr>\n",
       "      <th>max</th>\n",
       "      <td>8094.584500</td>\n",
       "      <td>7969.983400</td>\n",
       "      <td>28.958100</td>\n",
       "      <td>29.655600</td>\n",
       "      <td>28.873300</td>\n",
       "      <td>31.504600</td>\n",
       "      <td>30.860600</td>\n",
       "      <td>100.000000</td>\n",
       "      <td>205.584904</td>\n",
       "      <td>28.409850</td>\n",
       "    </tr>\n",
       "  </tbody>\n",
       "</table>\n",
       "</div>"
      ],
      "text/plain": [
       "                   x              y          f275w          f336w  \\\n",
       "count  199621.000000  199621.000000  199621.000000  199621.000000   \n",
       "mean     5062.955907    4916.888151     -20.770262      -8.363505   \n",
       "std      1301.778070    1289.670308      59.867925      54.505959   \n",
       "min      2074.261200    1693.539200     -99.999900     -99.999900   \n",
       "25%      4101.594700    3990.908900     -99.999900     -99.999900   \n",
       "50%      5036.086400    4945.694800      21.428100      22.146700   \n",
       "75%      6011.716300    5868.073200      26.051500      26.057700   \n",
       "max      8094.584500    7969.983400      28.958100      29.655600   \n",
       "\n",
       "               f438w          f606w          f814w           prob  \\\n",
       "count  199621.000000  199621.000000  199621.000000  199621.000000   \n",
       "mean       -8.390557      22.361134      21.434464      35.983431   \n",
       "std        54.276369       8.054891       7.722576      47.294623   \n",
       "min       -99.999900     -99.999900     -99.999900      -1.000000   \n",
       "25%       -99.999900      21.159400      20.510800      -1.000000   \n",
       "50%        22.281100      23.233600      22.206800      -1.000000   \n",
       "75%        25.366100      24.601000      23.380000      96.800000   \n",
       "max        28.873300      31.504600      30.860600     100.000000   \n",
       "\n",
       "                  ra            dec  \n",
       "count  199621.000000  199621.000000  \n",
       "mean      205.547639      28.376351  \n",
       "std         0.016237       0.014153  \n",
       "min       205.509822      28.340981  \n",
       "25%       205.535806      28.366189  \n",
       "50%       205.547975      28.376667  \n",
       "75%       205.559631      28.386789  \n",
       "max       205.584904      28.409850  "
      ]
     },
     "execution_count": 61,
     "metadata": {},
     "output_type": "execute_result"
    }
   ],
   "source": [
    "cols = [0,1,2,8,14,20,26,32,33,34,35]\n",
    "df = raw_df.iloc[:,cols]\n",
    "df.columns = ['x', 'y', 'f275w', 'f336w', 'f438w', 'f606w', 'f814w', 'prob', 'ra', 'dec', 'id']\n",
    "df.describe()"
   ]
  },
  {
   "cell_type": "code",
   "execution_count": 59,
   "metadata": {},
   "outputs": [
    {
     "data": {
      "text/plain": [
       "(199621, 11)"
      ]
     },
     "execution_count": 59,
     "metadata": {},
     "output_type": "execute_result"
    }
   ],
   "source": [
    "len(df), len(cols)"
   ]
  },
  {
   "cell_type": "code",
   "execution_count": 51,
   "metadata": {},
   "outputs": [],
   "source": [
    "def scatterPlot2D(df, title, xLabel, yLabel):\n",
    "    x = []\n",
    "    y = []\n",
    "    \n",
    "    for _, point in df.iterrows():\n",
    "        x.append(point[0])\n",
    "        y.append(point[1])\n",
    "\n",
    "    fig = plt.figure()\n",
    "\n",
    "    plot = fig.add_subplot(111)\n",
    "    plot.set_title(\"Subplot1\")\n",
    "    plot.set_xlabel(xLabel)\n",
    "    plot.set_ylabel(yLabel)\n",
    "    plot.scatter(x, y, s=30, c='r', label=\"feature1\")\n",
    "\n",
    "    plt.title(title)\n",
    "    plt.legend(loc=2)\n",
    "    plt.show()"
   ]
  },
  {
   "cell_type": "markdown",
   "metadata": {},
   "source": [
    "### Ignoring fainter stars"
   ]
  },
  {
   "cell_type": "code",
   "execution_count": 267,
   "metadata": {},
   "outputs": [],
   "source": [
    "df_bol = df.loc[df['f606w'] >= (22-5*np.log10(1040))]\n",
    "df_bol = df_bol.loc[df_bol['f275w']>-99]\n",
    "df_bol = df_bol.loc[df_bol['f336w']>-99]\n",
    "df_bol = df_bol.loc[df_bol['f438w']>-99]\n",
    "df_bol = df_bol.loc[df_bol['f606w']>-99]\n",
    "df_bol = df_bol.loc[df_bol['f814w']>-99]"
   ]
  },
  {
   "cell_type": "code",
   "execution_count": 268,
   "metadata": {},
   "outputs": [
    {
     "name": "stdout",
     "output_type": "stream",
     "text": [
      "94768 stars ignored\n"
     ]
    }
   ],
   "source": [
    "print(len(df)-len(df_bol), \"stars ignored\")"
   ]
  },
  {
   "cell_type": "markdown",
   "metadata": {},
   "source": [
    "## Problem 1"
   ]
  },
  {
   "cell_type": "code",
   "execution_count": null,
   "metadata": {},
   "outputs": [],
   "source": [
    "df1 = "
   ]
  },
  {
   "cell_type": "code",
   "execution_count": 269,
   "metadata": {},
   "outputs": [
    {
     "data": {
      "text/plain": [
       "(5.6925720884344875, 8.04648197486262)"
      ]
     },
     "execution_count": 269,
     "metadata": {},
     "output_type": "execute_result"
    }
   ],
   "source": [
    "top = df1.loc[df1['ra'] == max(df1['ra'])]\n",
    "bottom = df1.loc[df1['ra'] == min(df1['ra'])]\n",
    "left = df1.loc[df1['dec'] == min(df1['dec'])]\n",
    "right = df1.loc[df1['dec'] == max(df1['dec'])]\n",
    "c1 = SkyCoord(ra=float(top['ra'])*u.degree, dec=float(top['dec'])*u.degree)\n",
    "c2 = SkyCoord(ra=float(bottom['ra'])*u.degree, dec=float(bottom['dec'])*u.degree)\n",
    "d1 = c1.separation(c2).to_value(u.radian)\n",
    "c3 = SkyCoord(ra=float(left['ra'])*u.degree, dec=float(left['dec'])*u.degree)\n",
    "c4 = SkyCoord(ra=float(right['ra'])*u.degree, dec=float(right['dec'])*u.degree)\n",
    "d2 = c3.separation(c4).to_value(u.radian)\n",
    "dist = d1+d2/2\n",
    "r_c = dist*10.4/2*1000\n",
    "r_e = r_c*np.power(1-(np.log(0.5)/7.67), -4)\n",
    "r_e, r_c"
   ]
  },
  {
   "cell_type": "code",
   "execution_count": 270,
   "metadata": {},
   "outputs": [
    {
     "name": "stdout",
     "output_type": "stream",
     "text": [
      "Effective radius = 18.566686922406827 light years\n"
     ]
    }
   ],
   "source": [
    "print(\"Effective radius =\", (r_e*u.pc).to_value(u.lightyear), \"light years\")"
   ]
  },
  {
   "cell_type": "markdown",
   "metadata": {},
   "source": [
    "## Problem 4"
   ]
  },
  {
   "cell_type": "code",
   "execution_count": 261,
   "metadata": {},
   "outputs": [],
   "source": [
    "# Selecting stars that fall under the error range of coordinates\n",
    "tmp1 = df1.loc[(df1['ra']>=205.5407-0.0001) & (df1['ra']<=205.5407+0.0001) & (df1['dec']>=28.3798-0.0001) & (df1['dec']<=28.3798+0.0001)]\n",
    "tmp2 = df1.loc[(df1['ra']>=205.5729-0.00044) & (df1['ra']<=205.5729+0.00044) & (df1['dec']>=28.359-0.00044) & (df1['dec']<=28.359+0.00044)]\n"
   ]
  },
  {
   "cell_type": "code",
   "execution_count": 262,
   "metadata": {},
   "outputs": [
    {
     "data": {
      "image/png": "[encoded data removed]",
      "text/plain": [
       "<Figure size 432x288 with 1 Axes>"
      ]
     },
     "metadata": {},
     "output_type": "display_data"
    }
   ],
   "source": [
    "fig = plt.figure()\n",
    "\n",
    "plot = fig.add_subplot(111)\n",
    "plot.set_title(\"Subplot1\")\n",
    "plot.set_xlabel(\"U-V\")\n",
    "plot.set_ylabel(\"U\")\n",
    "plot.scatter(tmp1['f336w']-tmp1['f606w'],tmp1['f336w'], s=5, c='r', label=\"feature\")\n",
    "\n",
    "plt.title(\"U-V, U plot\")\n",
    "plt.legend(loc=2)\n",
    "plt.show()"
   ]
  },
  {
   "cell_type": "code",
   "execution_count": 263,
   "metadata": {},
   "outputs": [
    {
     "data": {
      "image/png": "[encoded data removed]",
      "text/plain": [
       "<Figure size 432x288 with 1 Axes>"
      ]
     },
     "metadata": {},
     "output_type": "display_data"
    }
   ],
   "source": [
    "fig = plt.figure()\n",
    "\n",
    "plot = fig.add_subplot(111)\n",
    "plot.set_title(\"Subplot1\")\n",
    "plot.set_xlabel(\"U-V\")\n",
    "plot.set_ylabel(\"U\")\n",
    "plot.scatter(tmp2['f336w']-tmp2['f606w'],tmp2['f336w'], s=5, c='r', label=\"feature\")\n",
    "\n",
    "plt.title(\"U-V, U plot\")\n",
    "plt.legend(loc=2)\n",
    "plt.show()"
   ]
  },
  {
   "cell_type": "code",
   "execution_count": 231,
   "metadata": {},
   "outputs": [
    {
     "name": "stdout",
     "output_type": "stream",
     "text": [
      "1.6566996844409398e-06\n",
      "1.8825979032794771e-06\n",
      "6.935796548504323e-07\n",
      "1.451877819668808e-06\n"
     ]
    }
   ],
   "source": [
    "c1 = SkyCoord(ra=float(205.5407)*u.degree, dec=float(28.3798)*u.degree)\n",
    "for _, row in tmp1.iterrows():\n",
    "    c2 = SkyCoord(ra=float(row['ra'])*u.degree, dec=float(row['dec'])*u.degree)\n",
    "    d = c1.separation(c2).to_value(u.radian)\n",
    "    print(d)"
   ]
  },
  {
   "cell_type": "code",
   "execution_count": 275,
   "metadata": {},
   "outputs": [
    {
     "data": {
      "text/html": [
       "<div>\n",
       "<style scoped>\n",
       "    .dataframe tbody tr th:only-of-type {\n",
       "        vertical-align: middle;\n",
       "    }\n",
       "\n",
       "    .dataframe tbody tr th {\n",
       "        vertical-align: top;\n",
       "    }\n",
       "\n",
       "    .dataframe thead th {\n",
       "        text-align: right;\n",
       "    }\n",
       "</style>\n",
       "<table border=\"1\" class=\"dataframe\">\n",
       "  <thead>\n",
       "    <tr style=\"text-align: right;\">\n",
       "      <th></th>\n",
       "      <th>x</th>\n",
       "      <th>y</th>\n",
       "      <th>f275w</th>\n",
       "      <th>f336w</th>\n",
       "      <th>f438w</th>\n",
       "      <th>f606w</th>\n",
       "      <th>f814w</th>\n",
       "      <th>prob</th>\n",
       "      <th>ra</th>\n",
       "      <th>dec</th>\n",
       "      <th>id</th>\n",
       "    </tr>\n",
       "  </thead>\n",
       "  <tbody>\n",
       "    <tr>\n",
       "      <th>6413</th>\n",
       "      <td>618.1348</td>\n",
       "      <td>239.5454</td>\n",
       "      <td>17.8137</td>\n",
       "      <td>17.6522</td>\n",
       "      <td>18.6494</td>\n",
       "      <td>18.0839</td>\n",
       "      <td>17.3724</td>\n",
       "      <td>96.9</td>\n",
       "      <td>205.540715</td>\n",
       "      <td>28.379894</td>\n",
       "      <td>R0006439</td>\n",
       "    </tr>\n",
       "    <tr>\n",
       "      <th>121546</th>\n",
       "      <td>613.3892</td>\n",
       "      <td>238.7969</td>\n",
       "      <td>21.4064</td>\n",
       "      <td>20.6572</td>\n",
       "      <td>21.0700</td>\n",
       "      <td>20.3243</td>\n",
       "      <td>19.7642</td>\n",
       "      <td>99.3</td>\n",
       "      <td>205.540774</td>\n",
       "      <td>28.379886</td>\n",
       "      <td>R0121633</td>\n",
       "    </tr>\n",
       "    <tr>\n",
       "      <th>121551</th>\n",
       "      <td>622.1646</td>\n",
       "      <td>233.1406</td>\n",
       "      <td>21.6427</td>\n",
       "      <td>20.7703</td>\n",
       "      <td>21.0578</td>\n",
       "      <td>20.4809</td>\n",
       "      <td>19.8385</td>\n",
       "      <td>92.6</td>\n",
       "      <td>205.540664</td>\n",
       "      <td>28.379824</td>\n",
       "      <td>R0121638</td>\n",
       "    </tr>\n",
       "    <tr>\n",
       "      <th>121553</th>\n",
       "      <td>626.7573</td>\n",
       "      <td>229.5815</td>\n",
       "      <td>23.1155</td>\n",
       "      <td>21.9520</td>\n",
       "      <td>22.0853</td>\n",
       "      <td>21.1975</td>\n",
       "      <td>20.5604</td>\n",
       "      <td>97.7</td>\n",
       "      <td>205.540607</td>\n",
       "      <td>28.379785</td>\n",
       "      <td>R0121640</td>\n",
       "    </tr>\n",
       "  </tbody>\n",
       "</table>\n",
       "</div>"
      ],
      "text/plain": [
       "               x         y    f275w    f336w    f438w    f606w    f814w  prob  \\\n",
       "6413    618.1348  239.5454  17.8137  17.6522  18.6494  18.0839  17.3724  96.9   \n",
       "121546  613.3892  238.7969  21.4064  20.6572  21.0700  20.3243  19.7642  99.3   \n",
       "121551  622.1646  233.1406  21.6427  20.7703  21.0578  20.4809  19.8385  92.6   \n",
       "121553  626.7573  229.5815  23.1155  21.9520  22.0853  21.1975  20.5604  97.7   \n",
       "\n",
       "                ra        dec        id  \n",
       "6413    205.540715  28.379894  R0006439  \n",
       "121546  205.540774  28.379886  R0121633  \n",
       "121551  205.540664  28.379824  R0121638  \n",
       "121553  205.540607  28.379785  R0121640  "
      ]
     },
     "execution_count": 275,
     "metadata": {},
     "output_type": "execute_result"
    }
   ],
   "source": [
    "tmp1"
   ]
  },
  {
   "cell_type": "code",
   "execution_count": 232,
   "metadata": {},
   "outputs": [
    {
     "name": "stdout",
     "output_type": "stream",
     "text": [
      "7.511707129159066e-06\n",
      "4.914784047373651e-07\n",
      "6.2923814253720515e-06\n",
      "7.696104307429348e-06\n",
      "6.513450341760507e-06\n"
     ]
    }
   ],
   "source": [
    "c1 = SkyCoord(ra=float(205.5729)*u.degree, dec=float(28.359)*u.degree)\n",
    "for _, row in tmp2.iterrows():\n",
    "    c2 = SkyCoord(ra=float(row['ra'])*u.degree, dec=float(row['dec'])*u.degree)\n",
    "    d = c1.separation(c2).to_value(u.radian)\n",
    "    print(d)"
   ]
  },
  {
   "cell_type": "code",
   "execution_count": 265,
   "metadata": {},
   "outputs": [
    {
     "data": {
      "text/html": [
       "<div>\n",
       "<style scoped>\n",
       "    .dataframe tbody tr th:only-of-type {\n",
       "        vertical-align: middle;\n",
       "    }\n",
       "\n",
       "    .dataframe tbody tr th {\n",
       "        vertical-align: top;\n",
       "    }\n",
       "\n",
       "    .dataframe thead th {\n",
       "        text-align: right;\n",
       "    }\n",
       "</style>\n",
       "<table border=\"1\" class=\"dataframe\">\n",
       "  <thead>\n",
       "    <tr style=\"text-align: right;\">\n",
       "      <th></th>\n",
       "      <th>x</th>\n",
       "      <th>y</th>\n",
       "      <th>f275w</th>\n",
       "      <th>f336w</th>\n",
       "      <th>f438w</th>\n",
       "      <th>f606w</th>\n",
       "      <th>f814w</th>\n",
       "      <th>prob</th>\n",
       "      <th>ra</th>\n",
       "      <th>dec</th>\n",
       "      <th>id</th>\n",
       "    </tr>\n",
       "  </thead>\n",
       "  <tbody>\n",
       "    <tr>\n",
       "      <th>815</th>\n",
       "      <td>-1995.6553</td>\n",
       "      <td>-1641.9351</td>\n",
       "      <td>19.3985</td>\n",
       "      <td>18.7910</td>\n",
       "      <td>19.0492</td>\n",
       "      <td>18.4969</td>\n",
       "      <td>17.9799</td>\n",
       "      <td>95.1</td>\n",
       "      <td>205.573309</td>\n",
       "      <td>28.359236</td>\n",
       "      <td>R0000821</td>\n",
       "    </tr>\n",
       "    <tr>\n",
       "      <th>33471</th>\n",
       "      <td>-1960.2625</td>\n",
       "      <td>-1663.4512</td>\n",
       "      <td>22.5010</td>\n",
       "      <td>21.9486</td>\n",
       "      <td>21.8407</td>\n",
       "      <td>21.2065</td>\n",
       "      <td>20.5149</td>\n",
       "      <td>97.4</td>\n",
       "      <td>205.572868</td>\n",
       "      <td>28.359000</td>\n",
       "      <td>R0033520</td>\n",
       "    </tr>\n",
       "    <tr>\n",
       "      <th>33472</th>\n",
       "      <td>-1948.2634</td>\n",
       "      <td>-1692.9072</td>\n",
       "      <td>20.2157</td>\n",
       "      <td>19.5943</td>\n",
       "      <td>20.0529</td>\n",
       "      <td>19.4233</td>\n",
       "      <td>18.9433</td>\n",
       "      <td>96.4</td>\n",
       "      <td>205.572718</td>\n",
       "      <td>28.358677</td>\n",
       "      <td>R0033521</td>\n",
       "    </tr>\n",
       "    <tr>\n",
       "      <th>33473</th>\n",
       "      <td>-1927.6006</td>\n",
       "      <td>-1644.2615</td>\n",
       "      <td>19.9340</td>\n",
       "      <td>19.3706</td>\n",
       "      <td>19.7683</td>\n",
       "      <td>19.2455</td>\n",
       "      <td>18.7627</td>\n",
       "      <td>96.7</td>\n",
       "      <td>205.572460</td>\n",
       "      <td>28.359211</td>\n",
       "      <td>R0033522</td>\n",
       "    </tr>\n",
       "    <tr>\n",
       "      <th>33539</th>\n",
       "      <td>-1995.8274</td>\n",
       "      <td>-1671.7722</td>\n",
       "      <td>-99.9999</td>\n",
       "      <td>22.8340</td>\n",
       "      <td>22.8769</td>\n",
       "      <td>21.7496</td>\n",
       "      <td>20.9065</td>\n",
       "      <td>97.6</td>\n",
       "      <td>205.573311</td>\n",
       "      <td>28.358908</td>\n",
       "      <td>R0033588</td>\n",
       "    </tr>\n",
       "  </tbody>\n",
       "</table>\n",
       "</div>"
      ],
      "text/plain": [
       "               x          y    f275w    f336w    f438w    f606w    f814w  \\\n",
       "815   -1995.6553 -1641.9351  19.3985  18.7910  19.0492  18.4969  17.9799   \n",
       "33471 -1960.2625 -1663.4512  22.5010  21.9486  21.8407  21.2065  20.5149   \n",
       "33472 -1948.2634 -1692.9072  20.2157  19.5943  20.0529  19.4233  18.9433   \n",
       "33473 -1927.6006 -1644.2615  19.9340  19.3706  19.7683  19.2455  18.7627   \n",
       "33539 -1995.8274 -1671.7722 -99.9999  22.8340  22.8769  21.7496  20.9065   \n",
       "\n",
       "       prob          ra        dec        id  \n",
       "815    95.1  205.573309  28.359236  R0000821  \n",
       "33471  97.4  205.572868  28.359000  R0033520  \n",
       "33472  96.4  205.572718  28.358677  R0033521  \n",
       "33473  96.7  205.572460  28.359211  R0033522  \n",
       "33539  97.6  205.573311  28.358908  R0033588  "
      ]
     },
     "execution_count": 265,
     "metadata": {},
     "output_type": "execute_result"
    }
   ],
   "source": [
    "tmp2"
   ]
  },
  {
   "cell_type": "markdown",
   "metadata": {},
   "source": [
    "# In the end, we chose the star closed to the corresponding X ray sources."
   ]
  }
 ],
 "metadata": {
  "kernelspec": {
   "display_name": "Python 3",
   "language": "python",
   "name": "python3"
  },
  "language_info": {
   "codemirror_mode": {
    "name": "ipython",
    "version": 3
   },
   "file_extension": ".py",
   "mimetype": "text/x-python",
   "name": "python",
   "nbconvert_exporter": "python",
   "pygments_lexer": "ipython3",
   "version": "3.6.5"
  }
 },
 "nbformat": 4,
 "nbformat_minor": 2
}
