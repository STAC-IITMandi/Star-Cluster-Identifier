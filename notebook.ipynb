{
 "cells": [
  {
   "cell_type": "markdown",
   "metadata": {},
   "source": [
    "# Star Cluster Identifier Hackathon"
   ]
  },
  {
   "cell_type": "code",
   "execution_count": 94,
   "metadata": {},
   "outputs": [],
   "source": [
    "import os\n",
    "import numpy as np\n",
    "import pandas as pd\n",
    "import matplotlib\n",
    "import matplotlib.pyplot as plt\n",
    "\n",
    "from astropy import units as u\n",
    "from astropy.coordinates import SkyCoord\n",
    "\n",
    "%matplotlib inline\n",
    "\n",
    "import warnings\n",
    "warnings.filterwarnings('ignore')"
   ]
  },
  {
   "cell_type": "code",
   "execution_count": 47,
   "metadata": {},
   "outputs": [],
   "source": [
    "f = open(\"data/temp.txt\", \"w\")\n",
    "\n",
    "with open(\"data/Dataset.txt\") as file:\n",
    "    for line in file:\n",
    "        if line[0] != '#':\n",
    "            f.write(line)\n",
    "\n",
    "f.close()"
   ]
  },
  {
   "cell_type": "code",
   "execution_count": 49,
   "metadata": {},
   "outputs": [
    {
     "data": {
      "text/html": [
       "<div>\n",
       "<style scoped>\n",
       "    .dataframe tbody tr th:only-of-type {\n",
       "        vertical-align: middle;\n",
       "    }\n",
       "\n",
       "    .dataframe tbody tr th {\n",
       "        vertical-align: top;\n",
       "    }\n",
       "\n",
       "    .dataframe thead th {\n",
       "        text-align: right;\n",
       "    }\n",
       "</style>\n",
       "<table border=\"1\" class=\"dataframe\">\n",
       "  <thead>\n",
       "    <tr style=\"text-align: right;\">\n",
       "      <th></th>\n",
       "      <th>0</th>\n",
       "      <th>1</th>\n",
       "      <th>2</th>\n",
       "      <th>3</th>\n",
       "      <th>4</th>\n",
       "      <th>5</th>\n",
       "      <th>6</th>\n",
       "      <th>7</th>\n",
       "      <th>8</th>\n",
       "      <th>9</th>\n",
       "      <th>...</th>\n",
       "      <th>27</th>\n",
       "      <th>28</th>\n",
       "      <th>29</th>\n",
       "      <th>30</th>\n",
       "      <th>31</th>\n",
       "      <th>32</th>\n",
       "      <th>33</th>\n",
       "      <th>34</th>\n",
       "      <th>35</th>\n",
       "      <th>36</th>\n",
       "    </tr>\n",
       "  </thead>\n",
       "  <tbody>\n",
       "    <tr>\n",
       "      <th>0</th>\n",
       "      <td>6954.4673</td>\n",
       "      <td>1738.9973</td>\n",
       "      <td>-99.9999</td>\n",
       "      <td>99.9999</td>\n",
       "      <td>0.0</td>\n",
       "      <td>9.9999</td>\n",
       "      <td>0</td>\n",
       "      <td>0</td>\n",
       "      <td>-99.9999</td>\n",
       "      <td>99.9999</td>\n",
       "      <td>...</td>\n",
       "      <td>0.0</td>\n",
       "      <td>0.9999</td>\n",
       "      <td>0.0085</td>\n",
       "      <td>1</td>\n",
       "      <td>1</td>\n",
       "      <td>-1.0</td>\n",
       "      <td>205.524050</td>\n",
       "      <td>28.341480</td>\n",
       "      <td>R0000001</td>\n",
       "      <td>1</td>\n",
       "    </tr>\n",
       "    <tr>\n",
       "      <th>1</th>\n",
       "      <td>7111.1323</td>\n",
       "      <td>1756.4988</td>\n",
       "      <td>-99.9999</td>\n",
       "      <td>99.9999</td>\n",
       "      <td>0.0</td>\n",
       "      <td>9.9999</td>\n",
       "      <td>0</td>\n",
       "      <td>0</td>\n",
       "      <td>-99.9999</td>\n",
       "      <td>99.9999</td>\n",
       "      <td>...</td>\n",
       "      <td>0.0</td>\n",
       "      <td>0.9991</td>\n",
       "      <td>-0.0041</td>\n",
       "      <td>1</td>\n",
       "      <td>1</td>\n",
       "      <td>-1.0</td>\n",
       "      <td>205.522096</td>\n",
       "      <td>28.341672</td>\n",
       "      <td>R0000002</td>\n",
       "      <td>1</td>\n",
       "    </tr>\n",
       "    <tr>\n",
       "      <th>2</th>\n",
       "      <td>6884.0669</td>\n",
       "      <td>1784.6356</td>\n",
       "      <td>-99.9999</td>\n",
       "      <td>99.9999</td>\n",
       "      <td>0.0</td>\n",
       "      <td>9.9999</td>\n",
       "      <td>0</td>\n",
       "      <td>0</td>\n",
       "      <td>-99.9999</td>\n",
       "      <td>99.9999</td>\n",
       "      <td>...</td>\n",
       "      <td>0.0</td>\n",
       "      <td>0.9997</td>\n",
       "      <td>-0.0023</td>\n",
       "      <td>1</td>\n",
       "      <td>1</td>\n",
       "      <td>-1.0</td>\n",
       "      <td>205.524928</td>\n",
       "      <td>28.341980</td>\n",
       "      <td>R0000003</td>\n",
       "      <td>1</td>\n",
       "    </tr>\n",
       "    <tr>\n",
       "      <th>3</th>\n",
       "      <td>6604.6484</td>\n",
       "      <td>1786.4238</td>\n",
       "      <td>-99.9999</td>\n",
       "      <td>99.9999</td>\n",
       "      <td>0.0</td>\n",
       "      <td>9.9999</td>\n",
       "      <td>0</td>\n",
       "      <td>0</td>\n",
       "      <td>-99.9999</td>\n",
       "      <td>99.9999</td>\n",
       "      <td>...</td>\n",
       "      <td>0.0</td>\n",
       "      <td>1.0000</td>\n",
       "      <td>0.0086</td>\n",
       "      <td>1</td>\n",
       "      <td>1</td>\n",
       "      <td>-1.0</td>\n",
       "      <td>205.528412</td>\n",
       "      <td>28.342000</td>\n",
       "      <td>R0000004</td>\n",
       "      <td>1</td>\n",
       "    </tr>\n",
       "    <tr>\n",
       "      <th>4</th>\n",
       "      <td>7284.2275</td>\n",
       "      <td>1819.0413</td>\n",
       "      <td>-99.9999</td>\n",
       "      <td>99.9999</td>\n",
       "      <td>0.0</td>\n",
       "      <td>9.9999</td>\n",
       "      <td>0</td>\n",
       "      <td>0</td>\n",
       "      <td>-99.9999</td>\n",
       "      <td>99.9999</td>\n",
       "      <td>...</td>\n",
       "      <td>0.0</td>\n",
       "      <td>1.0000</td>\n",
       "      <td>0.0000</td>\n",
       "      <td>99</td>\n",
       "      <td>99</td>\n",
       "      <td>-1.0</td>\n",
       "      <td>205.519938</td>\n",
       "      <td>28.342358</td>\n",
       "      <td>R0000005</td>\n",
       "      <td>1</td>\n",
       "    </tr>\n",
       "  </tbody>\n",
       "</table>\n",
       "<p>5 rows × 37 columns</p>\n",
       "</div>"
      ],
      "text/plain": [
       "          0          1        2        3    4       5   6   7        8   \\\n",
       "0  6954.4673  1738.9973 -99.9999  99.9999  0.0  9.9999   0   0 -99.9999   \n",
       "1  7111.1323  1756.4988 -99.9999  99.9999  0.0  9.9999   0   0 -99.9999   \n",
       "2  6884.0669  1784.6356 -99.9999  99.9999  0.0  9.9999   0   0 -99.9999   \n",
       "3  6604.6484  1786.4238 -99.9999  99.9999  0.0  9.9999   0   0 -99.9999   \n",
       "4  7284.2275  1819.0413 -99.9999  99.9999  0.0  9.9999   0   0 -99.9999   \n",
       "\n",
       "        9  ...   27      28      29  30  31   32          33         34  \\\n",
       "0  99.9999 ...  0.0  0.9999  0.0085   1   1 -1.0  205.524050  28.341480   \n",
       "1  99.9999 ...  0.0  0.9991 -0.0041   1   1 -1.0  205.522096  28.341672   \n",
       "2  99.9999 ...  0.0  0.9997 -0.0023   1   1 -1.0  205.524928  28.341980   \n",
       "3  99.9999 ...  0.0  1.0000  0.0086   1   1 -1.0  205.528412  28.342000   \n",
       "4  99.9999 ...  0.0  1.0000  0.0000  99  99 -1.0  205.519938  28.342358   \n",
       "\n",
       "         35  36  \n",
       "0  R0000001   1  \n",
       "1  R0000002   1  \n",
       "2  R0000003   1  \n",
       "3  R0000004   1  \n",
       "4  R0000005   1  \n",
       "\n",
       "[5 rows x 37 columns]"
      ]
     },
     "execution_count": 49,
     "metadata": {},
     "output_type": "execute_result"
    }
   ],
   "source": [
    "raw_df = pd.read_csv('data/temp.txt', header=None, delimiter=r\"\\s+\")\n",
    "raw_df.head()"
   ]
  },
  {
   "cell_type": "code",
   "execution_count": 61,
   "metadata": {},
   "outputs": [
    {
     "data": {
      "text/html": [
       "<div>\n",
       "<style scoped>\n",
       "    .dataframe tbody tr th:only-of-type {\n",
       "        vertical-align: middle;\n",
       "    }\n",
       "\n",
       "    .dataframe tbody tr th {\n",
       "        vertical-align: top;\n",
       "    }\n",
       "\n",
       "    .dataframe thead th {\n",
       "        text-align: right;\n",
       "    }\n",
       "</style>\n",
       "<table border=\"1\" class=\"dataframe\">\n",
       "  <thead>\n",
       "    <tr style=\"text-align: right;\">\n",
       "      <th></th>\n",
       "      <th>x</th>\n",
       "      <th>y</th>\n",
       "      <th>f275w</th>\n",
       "      <th>f336w</th>\n",
       "      <th>f438w</th>\n",
       "      <th>f606w</th>\n",
       "      <th>f814w</th>\n",
       "      <th>prob</th>\n",
       "      <th>ra</th>\n",
       "      <th>dec</th>\n",
       "    </tr>\n",
       "  </thead>\n",
       "  <tbody>\n",
       "    <tr>\n",
       "      <th>count</th>\n",
       "      <td>199621.000000</td>\n",
       "      <td>199621.000000</td>\n",
       "      <td>199621.000000</td>\n",
       "      <td>199621.000000</td>\n",
       "      <td>199621.000000</td>\n",
       "      <td>199621.000000</td>\n",
       "      <td>199621.000000</td>\n",
       "      <td>199621.000000</td>\n",
       "      <td>199621.000000</td>\n",
       "      <td>199621.000000</td>\n",
       "    </tr>\n",
       "    <tr>\n",
       "      <th>mean</th>\n",
       "      <td>5062.955907</td>\n",
       "      <td>4916.888151</td>\n",
       "      <td>-20.770262</td>\n",
       "      <td>-8.363505</td>\n",
       "      <td>-8.390557</td>\n",
       "      <td>22.361134</td>\n",
       "      <td>21.434464</td>\n",
       "      <td>35.983431</td>\n",
       "      <td>205.547639</td>\n",
       "      <td>28.376351</td>\n",
       "    </tr>\n",
       "    <tr>\n",
       "      <th>std</th>\n",
       "      <td>1301.778070</td>\n",
       "      <td>1289.670308</td>\n",
       "      <td>59.867925</td>\n",
       "      <td>54.505959</td>\n",
       "      <td>54.276369</td>\n",
       "      <td>8.054891</td>\n",
       "      <td>7.722576</td>\n",
       "      <td>47.294623</td>\n",
       "      <td>0.016237</td>\n",
       "      <td>0.014153</td>\n",
       "    </tr>\n",
       "    <tr>\n",
       "      <th>min</th>\n",
       "      <td>2074.261200</td>\n",
       "      <td>1693.539200</td>\n",
       "      <td>-99.999900</td>\n",
       "      <td>-99.999900</td>\n",
       "      <td>-99.999900</td>\n",
       "      <td>-99.999900</td>\n",
       "      <td>-99.999900</td>\n",
       "      <td>-1.000000</td>\n",
       "      <td>205.509822</td>\n",
       "      <td>28.340981</td>\n",
       "    </tr>\n",
       "    <tr>\n",
       "      <th>25%</th>\n",
       "      <td>4101.594700</td>\n",
       "      <td>3990.908900</td>\n",
       "      <td>-99.999900</td>\n",
       "      <td>-99.999900</td>\n",
       "      <td>-99.999900</td>\n",
       "      <td>21.159400</td>\n",
       "      <td>20.510800</td>\n",
       "      <td>-1.000000</td>\n",
       "      <td>205.535806</td>\n",
       "      <td>28.366189</td>\n",
       "    </tr>\n",
       "    <tr>\n",
       "      <th>50%</th>\n",
       "      <td>5036.086400</td>\n",
       "      <td>4945.694800</td>\n",
       "      <td>21.428100</td>\n",
       "      <td>22.146700</td>\n",
       "      <td>22.281100</td>\n",
       "      <td>23.233600</td>\n",
       "      <td>22.206800</td>\n",
       "      <td>-1.000000</td>\n",
       "      <td>205.547975</td>\n",
       "      <td>28.376667</td>\n",
       "    </tr>\n",
       "    <tr>\n",
       "      <th>75%</th>\n",
       "      <td>6011.716300</td>\n",
       "      <td>5868.073200</td>\n",
       "      <td>26.051500</td>\n",
       "      <td>26.057700</td>\n",
       "      <td>25.366100</td>\n",
       "      <td>24.601000</td>\n",
       "      <td>23.380000</td>\n",
       "      <td>96.800000</td>\n",
       "      <td>205.559631</td>\n",
       "      <td>28.386789</td>\n",
       "    </tr>\n",
       "    <tr>\n",
       "      <th>max</th>\n",
       "      <td>8094.584500</td>\n",
       "      <td>7969.983400</td>\n",
       "      <td>28.958100</td>\n",
       "      <td>29.655600</td>\n",
       "      <td>28.873300</td>\n",
       "      <td>31.504600</td>\n",
       "      <td>30.860600</td>\n",
       "      <td>100.000000</td>\n",
       "      <td>205.584904</td>\n",
       "      <td>28.409850</td>\n",
       "    </tr>\n",
       "  </tbody>\n",
       "</table>\n",
       "</div>"
      ],
      "text/plain": [
       "                   x              y          f275w          f336w  \\\n",
       "count  199621.000000  199621.000000  199621.000000  199621.000000   \n",
       "mean     5062.955907    4916.888151     -20.770262      -8.363505   \n",
       "std      1301.778070    1289.670308      59.867925      54.505959   \n",
       "min      2074.261200    1693.539200     -99.999900     -99.999900   \n",
       "25%      4101.594700    3990.908900     -99.999900     -99.999900   \n",
       "50%      5036.086400    4945.694800      21.428100      22.146700   \n",
       "75%      6011.716300    5868.073200      26.051500      26.057700   \n",
       "max      8094.584500    7969.983400      28.958100      29.655600   \n",
       "\n",
       "               f438w          f606w          f814w           prob  \\\n",
       "count  199621.000000  199621.000000  199621.000000  199621.000000   \n",
       "mean       -8.390557      22.361134      21.434464      35.983431   \n",
       "std        54.276369       8.054891       7.722576      47.294623   \n",
       "min       -99.999900     -99.999900     -99.999900      -1.000000   \n",
       "25%       -99.999900      21.159400      20.510800      -1.000000   \n",
       "50%        22.281100      23.233600      22.206800      -1.000000   \n",
       "75%        25.366100      24.601000      23.380000      96.800000   \n",
       "max        28.873300      31.504600      30.860600     100.000000   \n",
       "\n",
       "                  ra            dec  \n",
       "count  199621.000000  199621.000000  \n",
       "mean      205.547639      28.376351  \n",
       "std         0.016237       0.014153  \n",
       "min       205.509822      28.340981  \n",
       "25%       205.535806      28.366189  \n",
       "50%       205.547975      28.376667  \n",
       "75%       205.559631      28.386789  \n",
       "max       205.584904      28.409850  "
      ]
     },
     "execution_count": 61,
     "metadata": {},
     "output_type": "execute_result"
    }
   ],
   "source": [
    "cols = [0,1,2,8,14,20,26,32,33,34,35]\n",
    "df = raw_df.iloc[:,cols]\n",
    "df.columns = ['x', 'y', 'f275w', 'f336w', 'f438w', 'f606w', 'f814w', 'prob', 'ra', 'dec', 'id']\n",
    "df.describe()"
   ]
  },
  {
   "cell_type": "code",
   "execution_count": 59,
   "metadata": {},
   "outputs": [
    {
     "data": {
      "text/plain": [
       "(199621, 11)"
      ]
     },
     "execution_count": 59,
     "metadata": {},
     "output_type": "execute_result"
    }
   ],
   "source": [
    "len(df), len(cols)"
   ]
  },
  {
   "cell_type": "code",
   "execution_count": 51,
   "metadata": {},
   "outputs": [],
   "source": [
    "def scatterPlot2D(df, title, xLabel, yLabel):\n",
    "    x = []\n",
    "    y = []\n",
    "    \n",
    "    for _, point in df.iterrows():\n",
    "        x.append(point[0])\n",
    "        y.append(point[1])\n",
    "\n",
    "    fig = plt.figure()\n",
    "\n",
    "    plot = fig.add_subplot(111)\n",
    "    plot.set_title(\"Subplot1\")\n",
    "    plot.set_xlabel(xLabel)\n",
    "    plot.set_ylabel(yLabel)\n",
    "    plot.scatter(x, y, s=30, c='r', label=\"feature1\")\n",
    "\n",
    "    plt.title(title)\n",
    "    plt.legend(loc=2)\n",
    "    plt.show()"
   ]
  },
  {
   "cell_type": "code",
   "execution_count": 54,
   "metadata": {},
   "outputs": [],
   "source": [
    "a = df.values"
   ]
  },
  {
   "cell_type": "code",
   "execution_count": 64,
   "metadata": {},
   "outputs": [],
   "source": [
    "df_bol = df.loc[df['f606w'] >= (22-5*np.log10(1040))]"
   ]
  },
  {
   "cell_type": "code",
   "execution_count": 68,
   "metadata": {},
   "outputs": [
    {
     "data": {
      "text/plain": [
       "799"
      ]
     },
     "execution_count": 68,
     "metadata": {},
     "output_type": "execute_result"
    }
   ],
   "source": [
    "len(df)-len(df_bol)"
   ]
  },
  {
   "cell_type": "markdown",
   "metadata": {},
   "source": [
    "## Problem 1"
   ]
  },
  {
   "cell_type": "code",
   "execution_count": 78,
   "metadata": {},
   "outputs": [],
   "source": [
    "df1 = df.loc[df['prob'] != -1]"
   ]
  },
  {
   "cell_type": "code",
   "execution_count": 89,
   "metadata": {},
   "outputs": [],
   "source": [
    "df1['x'] = df1['x']-5000\n",
    "df1['y'] = df1['y']-5000\n",
    "\n",
    "r_c = max([np.sqrt(x**2+y**2) for x, y in zip(df1['x'], df1['y'])])"
   ]
  },
  {
   "cell_type": "code",
   "execution_count": 91,
   "metadata": {},
   "outputs": [],
   "source": [
    "r_e = r_c*np.power(1-(np.log(0.5)/7.67), -4)"
   ]
  },
  {
   "cell_type": "code",
   "execution_count": 93,
   "metadata": {},
   "outputs": [
    {
     "data": {
      "text/plain": [
       "(12190.778595556085, 17231.73263417725)"
      ]
     },
     "execution_count": 93,
     "metadata": {},
     "output_type": "execute_result"
    }
   ],
   "source": [
    "r_e, r_c"
   ]
  },
  {
   "cell_type": "code",
   "execution_count": 102,
   "metadata": {},
   "outputs": [
    {
     "data": {
      "text/plain": [
       "76175"
      ]
     },
     "execution_count": 102,
     "metadata": {},
     "output_type": "execute_result"
    }
   ],
   "source": [
    "len(df1)"
   ]
  },
  {
   "cell_type": "code",
   "execution_count": 103,
   "metadata": {},
   "outputs": [],
   "source": [
    "c = [SkyCoord(ra=ra*u.degree, dec=dec*u.degree) for ra, dec in zip(df1['ra'], df1['dec'])]  "
   ]
  },
  {
   "cell_type": "code",
   "execution_count": 104,
   "metadata": {},
   "outputs": [
    {
     "data": {
      "text/plain": [
       "76175"
      ]
     },
     "execution_count": 104,
     "metadata": {},
     "output_type": "execute_result"
    }
   ],
   "source": [
    "len(c)"
   ]
  },
  {
   "cell_type": "code",
   "execution_count": null,
   "metadata": {},
   "outputs": [],
   "source": []
  }
 ],
 "metadata": {
  "kernelspec": {
   "display_name": "Python 3",
   "language": "python",
   "name": "python3"
  },
  "language_info": {
   "codemirror_mode": {
    "name": "ipython",
    "version": 3
   },
   "file_extension": ".py",
   "mimetype": "text/x-python",
   "name": "python",
   "nbconvert_exporter": "python",
   "pygments_lexer": "ipython3",
   "version": "3.6.6"
  }
 },
 "nbformat": 4,
 "nbformat_minor": 2
}
