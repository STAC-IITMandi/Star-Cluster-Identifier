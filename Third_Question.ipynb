{
 "cells": [
  {
   "cell_type": "code",
   "execution_count": 1,
   "metadata": {},
   "outputs": [],
   "source": [
    "import os\n",
    "import numpy as np\n",
    "import pandas as pd\n",
    "import matplotlib\n",
    "import matplotlib.pyplot as plt\n",
    "\n",
    "from astropy import units as u\n",
    "from astropy.coordinates import SkyCoord\n",
    "\n",
    "%matplotlib inline\n",
    "\n",
    "import warnings\n",
    "warnings.filterwarnings('ignore')"
   ]
  },
  {
   "cell_type": "code",
   "execution_count": 2,
   "metadata": {},
   "outputs": [],
   "source": [
    "f = open(\"data/temp.txt\", \"w\")\n",
    "\n",
    "with open(\"data/Dataset.txt\") as file:\n",
    "    for line in file:\n",
    "        if line[0] != '#':\n",
    "            f.write(line)\n",
    "\n",
    "f.close()"
   ]
  },
  {
   "cell_type": "code",
   "execution_count": 3,
   "metadata": {},
   "outputs": [
    {
     "data": {
      "text/html": [
       "<div>\n",
       "<style scoped>\n",
       "    .dataframe tbody tr th:only-of-type {\n",
       "        vertical-align: middle;\n",
       "    }\n",
       "\n",
       "    .dataframe tbody tr th {\n",
       "        vertical-align: top;\n",
       "    }\n",
       "\n",
       "    .dataframe thead th {\n",
       "        text-align: right;\n",
       "    }\n",
       "</style>\n",
       "<table border=\"1\" class=\"dataframe\">\n",
       "  <thead>\n",
       "    <tr style=\"text-align: right;\">\n",
       "      <th></th>\n",
       "      <th>0</th>\n",
       "      <th>1</th>\n",
       "      <th>2</th>\n",
       "      <th>3</th>\n",
       "      <th>4</th>\n",
       "      <th>5</th>\n",
       "      <th>6</th>\n",
       "      <th>7</th>\n",
       "      <th>8</th>\n",
       "      <th>9</th>\n",
       "      <th>...</th>\n",
       "      <th>27</th>\n",
       "      <th>28</th>\n",
       "      <th>29</th>\n",
       "      <th>30</th>\n",
       "      <th>31</th>\n",
       "      <th>32</th>\n",
       "      <th>33</th>\n",
       "      <th>34</th>\n",
       "      <th>35</th>\n",
       "      <th>36</th>\n",
       "    </tr>\n",
       "  </thead>\n",
       "  <tbody>\n",
       "    <tr>\n",
       "      <th>0</th>\n",
       "      <td>6954.4673</td>\n",
       "      <td>1738.9973</td>\n",
       "      <td>-99.9999</td>\n",
       "      <td>99.9999</td>\n",
       "      <td>0.0</td>\n",
       "      <td>9.9999</td>\n",
       "      <td>0</td>\n",
       "      <td>0</td>\n",
       "      <td>-99.9999</td>\n",
       "      <td>99.9999</td>\n",
       "      <td>...</td>\n",
       "      <td>0.0</td>\n",
       "      <td>0.9999</td>\n",
       "      <td>0.0085</td>\n",
       "      <td>1</td>\n",
       "      <td>1</td>\n",
       "      <td>-1.0</td>\n",
       "      <td>205.524050</td>\n",
       "      <td>28.341480</td>\n",
       "      <td>R0000001</td>\n",
       "      <td>1</td>\n",
       "    </tr>\n",
       "    <tr>\n",
       "      <th>1</th>\n",
       "      <td>7111.1323</td>\n",
       "      <td>1756.4988</td>\n",
       "      <td>-99.9999</td>\n",
       "      <td>99.9999</td>\n",
       "      <td>0.0</td>\n",
       "      <td>9.9999</td>\n",
       "      <td>0</td>\n",
       "      <td>0</td>\n",
       "      <td>-99.9999</td>\n",
       "      <td>99.9999</td>\n",
       "      <td>...</td>\n",
       "      <td>0.0</td>\n",
       "      <td>0.9991</td>\n",
       "      <td>-0.0041</td>\n",
       "      <td>1</td>\n",
       "      <td>1</td>\n",
       "      <td>-1.0</td>\n",
       "      <td>205.522096</td>\n",
       "      <td>28.341672</td>\n",
       "      <td>R0000002</td>\n",
       "      <td>1</td>\n",
       "    </tr>\n",
       "    <tr>\n",
       "      <th>2</th>\n",
       "      <td>6884.0669</td>\n",
       "      <td>1784.6356</td>\n",
       "      <td>-99.9999</td>\n",
       "      <td>99.9999</td>\n",
       "      <td>0.0</td>\n",
       "      <td>9.9999</td>\n",
       "      <td>0</td>\n",
       "      <td>0</td>\n",
       "      <td>-99.9999</td>\n",
       "      <td>99.9999</td>\n",
       "      <td>...</td>\n",
       "      <td>0.0</td>\n",
       "      <td>0.9997</td>\n",
       "      <td>-0.0023</td>\n",
       "      <td>1</td>\n",
       "      <td>1</td>\n",
       "      <td>-1.0</td>\n",
       "      <td>205.524928</td>\n",
       "      <td>28.341980</td>\n",
       "      <td>R0000003</td>\n",
       "      <td>1</td>\n",
       "    </tr>\n",
       "    <tr>\n",
       "      <th>3</th>\n",
       "      <td>6604.6484</td>\n",
       "      <td>1786.4238</td>\n",
       "      <td>-99.9999</td>\n",
       "      <td>99.9999</td>\n",
       "      <td>0.0</td>\n",
       "      <td>9.9999</td>\n",
       "      <td>0</td>\n",
       "      <td>0</td>\n",
       "      <td>-99.9999</td>\n",
       "      <td>99.9999</td>\n",
       "      <td>...</td>\n",
       "      <td>0.0</td>\n",
       "      <td>1.0000</td>\n",
       "      <td>0.0086</td>\n",
       "      <td>1</td>\n",
       "      <td>1</td>\n",
       "      <td>-1.0</td>\n",
       "      <td>205.528412</td>\n",
       "      <td>28.342000</td>\n",
       "      <td>R0000004</td>\n",
       "      <td>1</td>\n",
       "    </tr>\n",
       "    <tr>\n",
       "      <th>4</th>\n",
       "      <td>7284.2275</td>\n",
       "      <td>1819.0413</td>\n",
       "      <td>-99.9999</td>\n",
       "      <td>99.9999</td>\n",
       "      <td>0.0</td>\n",
       "      <td>9.9999</td>\n",
       "      <td>0</td>\n",
       "      <td>0</td>\n",
       "      <td>-99.9999</td>\n",
       "      <td>99.9999</td>\n",
       "      <td>...</td>\n",
       "      <td>0.0</td>\n",
       "      <td>1.0000</td>\n",
       "      <td>0.0000</td>\n",
       "      <td>99</td>\n",
       "      <td>99</td>\n",
       "      <td>-1.0</td>\n",
       "      <td>205.519938</td>\n",
       "      <td>28.342358</td>\n",
       "      <td>R0000005</td>\n",
       "      <td>1</td>\n",
       "    </tr>\n",
       "  </tbody>\n",
       "</table>\n",
       "<p>5 rows × 37 columns</p>\n",
       "</div>"
      ],
      "text/plain": [
       "          0          1        2        3    4       5   6   7        8   \\\n",
       "0  6954.4673  1738.9973 -99.9999  99.9999  0.0  9.9999   0   0 -99.9999   \n",
       "1  7111.1323  1756.4988 -99.9999  99.9999  0.0  9.9999   0   0 -99.9999   \n",
       "2  6884.0669  1784.6356 -99.9999  99.9999  0.0  9.9999   0   0 -99.9999   \n",
       "3  6604.6484  1786.4238 -99.9999  99.9999  0.0  9.9999   0   0 -99.9999   \n",
       "4  7284.2275  1819.0413 -99.9999  99.9999  0.0  9.9999   0   0 -99.9999   \n",
       "\n",
       "        9  ...   27      28      29  30  31   32          33         34  \\\n",
       "0  99.9999 ...  0.0  0.9999  0.0085   1   1 -1.0  205.524050  28.341480   \n",
       "1  99.9999 ...  0.0  0.9991 -0.0041   1   1 -1.0  205.522096  28.341672   \n",
       "2  99.9999 ...  0.0  0.9997 -0.0023   1   1 -1.0  205.524928  28.341980   \n",
       "3  99.9999 ...  0.0  1.0000  0.0086   1   1 -1.0  205.528412  28.342000   \n",
       "4  99.9999 ...  0.0  1.0000  0.0000  99  99 -1.0  205.519938  28.342358   \n",
       "\n",
       "         35  36  \n",
       "0  R0000001   1  \n",
       "1  R0000002   1  \n",
       "2  R0000003   1  \n",
       "3  R0000004   1  \n",
       "4  R0000005   1  \n",
       "\n",
       "[5 rows x 37 columns]"
      ]
     },
     "execution_count": 3,
     "metadata": {},
     "output_type": "execute_result"
    }
   ],
   "source": [
    "raw_df = pd.read_csv('data/temp.txt', header=None, delimiter=r\"\\s+\")\n",
    "raw_df.head()"
   ]
  },
  {
   "cell_type": "code",
   "execution_count": 4,
   "metadata": {},
   "outputs": [
    {
     "data": {
      "text/html": [
       "<div>\n",
       "<style scoped>\n",
       "    .dataframe tbody tr th:only-of-type {\n",
       "        vertical-align: middle;\n",
       "    }\n",
       "\n",
       "    .dataframe tbody tr th {\n",
       "        vertical-align: top;\n",
       "    }\n",
       "\n",
       "    .dataframe thead th {\n",
       "        text-align: right;\n",
       "    }\n",
       "</style>\n",
       "<table border=\"1\" class=\"dataframe\">\n",
       "  <thead>\n",
       "    <tr style=\"text-align: right;\">\n",
       "      <th></th>\n",
       "      <th>f275w</th>\n",
       "      <th>f336w</th>\n",
       "      <th>f438w</th>\n",
       "      <th>f606w</th>\n",
       "      <th>f814w</th>\n",
       "      <th>prob</th>\n",
       "      <th>ra</th>\n",
       "      <th>dec</th>\n",
       "    </tr>\n",
       "  </thead>\n",
       "  <tbody>\n",
       "    <tr>\n",
       "      <th>count</th>\n",
       "      <td>199621.000000</td>\n",
       "      <td>199621.000000</td>\n",
       "      <td>199621.000000</td>\n",
       "      <td>199621.000000</td>\n",
       "      <td>199621.000000</td>\n",
       "      <td>199621.000000</td>\n",
       "      <td>199621.000000</td>\n",
       "      <td>199621.000000</td>\n",
       "    </tr>\n",
       "    <tr>\n",
       "      <th>mean</th>\n",
       "      <td>-20.770262</td>\n",
       "      <td>-8.363505</td>\n",
       "      <td>-8.390557</td>\n",
       "      <td>22.361134</td>\n",
       "      <td>21.434464</td>\n",
       "      <td>35.983431</td>\n",
       "      <td>205.547639</td>\n",
       "      <td>28.376351</td>\n",
       "    </tr>\n",
       "    <tr>\n",
       "      <th>std</th>\n",
       "      <td>59.867925</td>\n",
       "      <td>54.505959</td>\n",
       "      <td>54.276369</td>\n",
       "      <td>8.054891</td>\n",
       "      <td>7.722576</td>\n",
       "      <td>47.294623</td>\n",
       "      <td>0.016237</td>\n",
       "      <td>0.014153</td>\n",
       "    </tr>\n",
       "    <tr>\n",
       "      <th>min</th>\n",
       "      <td>-99.999900</td>\n",
       "      <td>-99.999900</td>\n",
       "      <td>-99.999900</td>\n",
       "      <td>-99.999900</td>\n",
       "      <td>-99.999900</td>\n",
       "      <td>-1.000000</td>\n",
       "      <td>205.509822</td>\n",
       "      <td>28.340981</td>\n",
       "    </tr>\n",
       "    <tr>\n",
       "      <th>25%</th>\n",
       "      <td>-99.999900</td>\n",
       "      <td>-99.999900</td>\n",
       "      <td>-99.999900</td>\n",
       "      <td>21.159400</td>\n",
       "      <td>20.510800</td>\n",
       "      <td>-1.000000</td>\n",
       "      <td>205.535806</td>\n",
       "      <td>28.366189</td>\n",
       "    </tr>\n",
       "    <tr>\n",
       "      <th>50%</th>\n",
       "      <td>21.428100</td>\n",
       "      <td>22.146700</td>\n",
       "      <td>22.281100</td>\n",
       "      <td>23.233600</td>\n",
       "      <td>22.206800</td>\n",
       "      <td>-1.000000</td>\n",
       "      <td>205.547975</td>\n",
       "      <td>28.376667</td>\n",
       "    </tr>\n",
       "    <tr>\n",
       "      <th>75%</th>\n",
       "      <td>26.051500</td>\n",
       "      <td>26.057700</td>\n",
       "      <td>25.366100</td>\n",
       "      <td>24.601000</td>\n",
       "      <td>23.380000</td>\n",
       "      <td>96.800000</td>\n",
       "      <td>205.559631</td>\n",
       "      <td>28.386789</td>\n",
       "    </tr>\n",
       "    <tr>\n",
       "      <th>max</th>\n",
       "      <td>28.958100</td>\n",
       "      <td>29.655600</td>\n",
       "      <td>28.873300</td>\n",
       "      <td>31.504600</td>\n",
       "      <td>30.860600</td>\n",
       "      <td>100.000000</td>\n",
       "      <td>205.584904</td>\n",
       "      <td>28.409850</td>\n",
       "    </tr>\n",
       "  </tbody>\n",
       "</table>\n",
       "</div>"
      ],
      "text/plain": [
       "               f275w          f336w          f438w          f606w  \\\n",
       "count  199621.000000  199621.000000  199621.000000  199621.000000   \n",
       "mean      -20.770262      -8.363505      -8.390557      22.361134   \n",
       "std        59.867925      54.505959      54.276369       8.054891   \n",
       "min       -99.999900     -99.999900     -99.999900     -99.999900   \n",
       "25%       -99.999900     -99.999900     -99.999900      21.159400   \n",
       "50%        21.428100      22.146700      22.281100      23.233600   \n",
       "75%        26.051500      26.057700      25.366100      24.601000   \n",
       "max        28.958100      29.655600      28.873300      31.504600   \n",
       "\n",
       "               f814w           prob             ra            dec  \n",
       "count  199621.000000  199621.000000  199621.000000  199621.000000  \n",
       "mean       21.434464      35.983431     205.547639      28.376351  \n",
       "std         7.722576      47.294623       0.016237       0.014153  \n",
       "min       -99.999900      -1.000000     205.509822      28.340981  \n",
       "25%        20.510800      -1.000000     205.535806      28.366189  \n",
       "50%        22.206800      -1.000000     205.547975      28.376667  \n",
       "75%        23.380000      96.800000     205.559631      28.386789  \n",
       "max        30.860600     100.000000     205.584904      28.409850  "
      ]
     },
     "execution_count": 4,
     "metadata": {},
     "output_type": "execute_result"
    }
   ],
   "source": [
    "cols = [2,8,14,20,26,32,33,34,35]\n",
    "df = raw_df.iloc[:,cols]\n",
    "df.columns = ['f275w', 'f336w', 'f438w', 'f606w', 'f814w', 'prob', 'ra', 'dec', 'id']\n",
    "df.describe()"
   ]
  },
  {
   "cell_type": "code",
   "execution_count": 5,
   "metadata": {},
   "outputs": [],
   "source": [
    "df_bol = df.loc[df['f606w'] >= (22-5*np.log10(1040))]"
   ]
  },
  {
   "cell_type": "code",
   "execution_count": 8,
   "metadata": {},
   "outputs": [],
   "source": [
    "def mass(m_bol):\n",
    "    d = 10.4 * 100\n",
    "    Mo = 1.9891e30\n",
    "    L_ratio = np.e ** ((4.8-m_bol+ 5*np.log10(d))/2.5)\n",
    "    M_s = (L_ratio**(1/3.8))*Mo\n",
    "    return M_s"
   ]
  },
  {
   "cell_type": "code",
   "execution_count": 28,
   "metadata": {},
   "outputs": [],
   "source": [
    "p1 = df_bol['prob'][105]"
   ]
  },
  {
   "cell_type": "code",
   "execution_count": 29,
   "metadata": {},
   "outputs": [],
   "source": [
    "p2 = df_bol['prob'][104]"
   ]
  },
  {
   "cell_type": "code",
   "execution_count": 30,
   "metadata": {},
   "outputs": [],
   "source": [
    "m1 = mass(df_bol['f606w'][105])"
   ]
  },
  {
   "cell_type": "code",
   "execution_count": 31,
   "metadata": {},
   "outputs": [],
   "source": [
    "m2 = mass(df_bol['f606w'][104])"
   ]
  },
  {
   "cell_type": "code",
   "execution_count": 33,
   "metadata": {},
   "outputs": [],
   "source": [
    "df_boo = df.loc[df['prob'] > (0)]"
   ]
  },
  {
   "cell_type": "code",
   "execution_count": 35,
   "metadata": {},
   "outputs": [],
   "source": [
    "n = len(df_boo)"
   ]
  },
  {
   "cell_type": "code",
   "execution_count": 36,
   "metadata": {},
   "outputs": [
    {
     "data": {
      "text/plain": [
       "3.2403075339345905e+30"
      ]
     },
     "execution_count": 36,
     "metadata": {},
     "output_type": "execute_result"
    }
   ],
   "source": [
    "m1"
   ]
  },
  {
   "cell_type": "code",
   "execution_count": 37,
   "metadata": {},
   "outputs": [
    {
     "data": {
      "text/plain": [
       "2.1600500680400575e+30"
      ]
     },
     "execution_count": 37,
     "metadata": {},
     "output_type": "execute_result"
    }
   ],
   "source": [
    "m2"
   ]
  },
  {
   "cell_type": "code",
   "execution_count": 38,
   "metadata": {},
   "outputs": [],
   "source": [
    "alpha = 2.3"
   ]
  },
  {
   "cell_type": "code",
   "execution_count": 39,
   "metadata": {},
   "outputs": [],
   "source": [
    "E = (n * p1)/(m1**alpha)"
   ]
  },
  {
   "cell_type": "code",
   "execution_count": 40,
   "metadata": {},
   "outputs": [
    {
     "data": {
      "text/plain": [
       "4.8985630556028166e-64"
      ]
     },
     "execution_count": 40,
     "metadata": {},
     "output_type": "execute_result"
    }
   ],
   "source": [
    "E"
   ]
  },
  {
   "cell_type": "code",
   "execution_count": 41,
   "metadata": {},
   "outputs": [],
   "source": [
    "E2 = (n * p2)/(m2**alpha)"
   ]
  },
  {
   "cell_type": "code",
   "execution_count": 42,
   "metadata": {},
   "outputs": [
    {
     "data": {
      "text/plain": [
       "1.2643570768981562e-63"
      ]
     },
     "execution_count": 42,
     "metadata": {},
     "output_type": "execute_result"
    }
   ],
   "source": [
    "E2"
   ]
  },
  {
   "cell_type": "code",
   "execution_count": 54,
   "metadata": {},
   "outputs": [],
   "source": [
    "m3 = mass(df_bol['f606w'][110])"
   ]
  },
  {
   "cell_type": "code",
   "execution_count": 55,
   "metadata": {},
   "outputs": [
    {
     "data": {
      "text/plain": [
       "2.274745648239547e+30"
      ]
     },
     "execution_count": 55,
     "metadata": {},
     "output_type": "execute_result"
    }
   ],
   "source": [
    "m3"
   ]
  },
  {
   "cell_type": "code",
   "execution_count": 52,
   "metadata": {},
   "outputs": [],
   "source": [
    "p3 = df_bol['prob'][110]"
   ]
  },
  {
   "cell_type": "code",
   "execution_count": 53,
   "metadata": {},
   "outputs": [
    {
     "data": {
      "text/plain": [
       "97.2"
      ]
     },
     "execution_count": 53,
     "metadata": {},
     "output_type": "execute_result"
    }
   ],
   "source": [
    "p3"
   ]
  },
  {
   "cell_type": "code",
   "execution_count": 56,
   "metadata": {},
   "outputs": [],
   "source": [
    "E4 = (n * p3)/(m3**alpha)"
   ]
  },
  {
   "cell_type": "code",
   "execution_count": 57,
   "metadata": {},
   "outputs": [
    {
     "data": {
      "text/plain": [
       "1.1167672960242709e-63"
      ]
     },
     "execution_count": 57,
     "metadata": {},
     "output_type": "execute_result"
    }
   ],
   "source": [
    "E4"
   ]
  },
  {
   "cell_type": "code",
   "execution_count": 59,
   "metadata": {},
   "outputs": [],
   "source": [
    "# Average Value \n",
    "# E = 1.129e-63"
   ]
  },
  {
   "cell_type": "code",
   "execution_count": null,
   "metadata": {},
   "outputs": [],
   "source": []
  }
 ],
 "metadata": {
  "kernelspec": {
   "display_name": "Python 3",
   "language": "python",
   "name": "python3"
  },
  "language_info": {
   "codemirror_mode": {
    "name": "ipython",
    "version": 3
   },
   "file_extension": ".py",
   "mimetype": "text/x-python",
   "name": "python",
   "nbconvert_exporter": "python",
   "pygments_lexer": "ipython3",
   "version": "3.6.6"
  }
 },
 "nbformat": 4,
 "nbformat_minor": 2
}
